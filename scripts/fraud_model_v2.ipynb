{
 "cells": [
  {
   "cell_type": "code",
   "execution_count": 2,
   "metadata": {},
   "outputs": [
    {
     "name": "stdout",
     "output_type": "stream",
     "text": [
      "Accuracy: 0.9891\n",
      "Precision: 0.9851\n",
      "Recall: 0.9663\n",
      "F1 Score: 0.9756\n"
     ]
    }
   ],
   "source": [
    "import pandas as pd\n",
    "import numpy as np\n",
    "from sklearn.model_selection import train_test_split\n",
    "from sklearn.metrics import accuracy_score, precision_score, recall_score, f1_score\n",
    "import xgboost as xgb\n",
    "\n",
    "# Step 1: Load the Dataset\n",
    "data = pd.read_csv('/Users/davidchan/ai-compliance-engine/datasets/fraud_dataset.csv')\n",
    "\n",
    "# Step 2: Preprocess the Data\n",
    "# Encode the 'FLAG' column\n",
    "data['FLAG'] = data['FLAG'].map({'Fraud': 1, 'Non - Fraud': 0})\n",
    "\n",
    "# Handle missing values (if any)\n",
    "data = data.fillna(0)\n",
    "\n",
    "# Separate features and target variable\n",
    "X = data.drop(['FLAG'], axis=1)\n",
    "y = data['FLAG']\n",
    "\n",
    "# Step 3: Split the Dataset\n",
    "X_train, X_test, y_train, y_test = train_test_split(X, y, test_size=0.2, random_state=42)\n",
    "\n",
    "# Step 4: Train the XGBoost Model\n",
    "# Convert data to DMatrix format (optional but efficient for XGBoost)\n",
    "dtrain = xgb.DMatrix(X_train, label=y_train)\n",
    "dtest = xgb.DMatrix(X_test, label=y_test)\n",
    "\n",
    "# Set hyperparameters\n",
    "params = {\n",
    "    'objective': 'binary:logistic',  # Binary classification\n",
    "    'eval_metric': 'logloss',       # Evaluation metric\n",
    "    'learning_rate': 0.1,           # Learning rate\n",
    "    'max_depth': 6,                 # Max depth of trees\n",
    "    'lambda': 1.0,                  # L2 regularization\n",
    "    'alpha': 0.0,                   # L1 regularization\n",
    "    'seed': 42                      # Random seed\n",
    "}\n",
    "\n",
    "# Train the model\n",
    "xgb_model = xgb.train(params, dtrain, num_boost_round=100)\n",
    "\n",
    "# Step 5: Make Predictions and Evaluate\n",
    "y_pred_proba = xgb_model.predict(dtest)\n",
    "y_pred = (y_pred_proba > 0.5).astype(int)  # Convert probabilities to binary predictions\n",
    "\n",
    "# Evaluate metrics\n",
    "accuracy = accuracy_score(y_test, y_pred)\n",
    "precision = precision_score(y_test, y_pred)\n",
    "recall = recall_score(y_test, y_pred)\n",
    "f1 = f1_score(y_test, y_pred)\n",
    "\n",
    "print(f\"Accuracy: {accuracy:.4f}\")\n",
    "print(f\"Precision: {precision:.4f}\")\n",
    "print(f\"Recall: {recall:.4f}\")\n",
    "print(f\"F1 Score: {f1:.4f}\")"
   ]
  },
  {
   "cell_type": "markdown",
   "metadata": {},
   "source": []
  },
  {
   "cell_type": "code",
   "execution_count": 3,
   "metadata": {},
   "outputs": [
    {
     "name": "stdout",
     "output_type": "stream",
     "text": [
      "Model saved successfully\n"
     ]
    }
   ],
   "source": [
    "import joblib\n",
    "\n",
    "# Save the trained model\n",
    "joblib.dump(xgb_model, '/Users/davidchan/ai-compliance-engine/app/ai_models/fraud_model_v2.pkl')\n",
    "print(\"Model saved successfully\")\n"
   ]
  },
  {
   "cell_type": "code",
   "execution_count": 4,
   "metadata": {},
   "outputs": [
    {
     "name": "stdout",
     "output_type": "stream",
     "text": [
      "['Unnamed: 0', 'Avg min between sent tnx', 'Avg min between received tnx', 'Time Diff between first and last (Mins)', 'Sent tnx', 'Received Tnx', 'Number of Created Contracts', 'max value received ', 'avg val received', 'avg val sent', 'total Ether sent', 'total ether balance', ' ERC20 total Ether received', ' ERC20 total ether sent', ' ERC20 total Ether sent contract', ' ERC20 uniq sent addr', ' ERC20 uniq rec token name', ' ERC20 most sent token type', ' ERC20_most_rec_token_type']\n"
     ]
    }
   ],
   "source": [
    "print(xgb_model.feature_names)"
   ]
  }
 ],
 "metadata": {
  "kernelspec": {
   "display_name": "venv",
   "language": "python",
   "name": "python3"
  },
  "language_info": {
   "codemirror_mode": {
    "name": "ipython",
    "version": 3
   },
   "file_extension": ".py",
   "mimetype": "text/x-python",
   "name": "python",
   "nbconvert_exporter": "python",
   "pygments_lexer": "ipython3",
   "version": "3.13.1"
  }
 },
 "nbformat": 4,
 "nbformat_minor": 2
}
